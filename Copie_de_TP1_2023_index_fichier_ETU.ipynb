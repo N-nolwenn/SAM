{
  "nbformat": 4,
  "nbformat_minor": 0,
  "metadata": {
    "colab": {
      "provenance": [],
      "collapsed_sections": [
        "vZzLUr_l_Wfb",
        "cRKX2fgx_gYT",
        "5gm8_3CY_odp",
        "qlmFE3aZTBWC",
        "Y4XDZAmbcUQb"
      ],
      "include_colab_link": true
    },
    "kernelspec": {
      "name": "python3",
      "display_name": "Python 3"
    },
    "language_info": {
      "name": "python"
    }
  },
  "cells": [
    {
      "cell_type": "markdown",
      "metadata": {
        "id": "view-in-github",
        "colab_type": "text"
      },
      "source": [
        "<a href=\"https://colab.research.google.com/github/N-nolwenn/SAM/blob/main/Copie_de_TP1_2023_index_fichier_ETU.ipynb\" target=\"_parent\"><img src=\"https://colab.research.google.com/assets/colab-badge.svg\" alt=\"Open In Colab\"/></a>"
      ]
    },
    {
      "cell_type": "markdown",
      "source": [
        "# SAM: TP1 Accès aux données avec index \n",
        "\n",
        "Sujet pour étudiants\n",
        "\n",
        "date de modification : 26/01/2023 16h\n",
        "\n",
        "NOM: BOUCHOUCHI et PIGEON\n",
        "\n",
        "Prénom: Nour et Nolwenn"
      ],
      "metadata": {
        "id": "vZzLUr_l_Wfb"
      }
    },
    {
      "cell_type": "markdown",
      "source": [
        "Objectifs:\n",
        "Savoir organiser des données en pages pour permettre de modifier un tuple en ne modifiant qu'une seule page.\n",
        "\n",
        "Comprendre les méthodes d'accès suivantes :\n",
        "\n",
        "*   Lecture séquentielle d'un fichier : \"table access full\"\n",
        "*   Lecture d'un tuple dont on connait le rowid : \"table access by index rowid\"\n",
        "*   Opération de sélection par lecture séquentielle et filtrage \n",
        "\n",
        "Comprendre les méthodes d'indexation :\n",
        "\n",
        "*   Créer un index\n",
        "*   Opération de Sélection par index et lecture par rowid\n",
        "\n",
        "Mise à jour de données\n",
        "*   Sélectionner un tuple et modifier un de ses attributs\n",
        "*   Modifier l'index en conséquence lorsque l'attibut modifié est indexé\n",
        "\n",
        "Persistence\n",
        "*   Stocker un index (dans plusieurs pages) pour le reconstruire plus rapidement\n",
        "*   Adapter en conséquence les opérations de modification de l'index\n"
      ],
      "metadata": {
        "id": "4TJrAm4JFr9V"
      }
    },
    {
      "cell_type": "code",
      "source": [
        "import os\n",
        "import shutil as sh\n",
        "import numpy as np\n",
        "import random\n",
        "from random import choice\n",
        "from string import ascii_lowercase\n",
        "import time\n",
        "\n",
        "DATA = \"data.csv\""
      ],
      "metadata": {
        "id": "aodlGU01gLqK"
      },
      "execution_count": null,
      "outputs": []
    },
    {
      "cell_type": "markdown",
      "source": [
        "# Générer un fichier"
      ],
      "metadata": {
        "id": "cRKX2fgx_gYT"
      }
    },
    {
      "cell_type": "markdown",
      "source": [
        "Création du fichier"
      ],
      "metadata": {
        "id": "ezxoKUCxtASX"
      }
    },
    {
      "cell_type": "code",
      "source": [
        "# dure environ 40s pour 5M lignes\n",
        "\n",
        "nb_lines = 5 * 1000 * 1000\n",
        "# nb_lines = 100\n",
        "nb_attributes = 7\n",
        "\n",
        "longueur_attribut = 100\n",
        "# string_val = \"\".join(choice(ascii_lowercase) for i in range(longueur_attribut))\n",
        "long_string = ''.join('-' for i in range(longueur_attribut))\n",
        "\n",
        "# a=[np.random.randint(0, int(nb_lines/(10**i)), nb_lines) for i in range(nb_attributes)]\n",
        "nb_valeurs_distinctes = nb_lines\n",
        "\n",
        "# le premier attribut est unique\n",
        "a = [random.sample(range(nb_valeurs_distinctes), nb_lines)]\n",
        "\n",
        "# les attributs suivants ont des domaines plus petits\n",
        "for i in range(1, nb_attributes):\n",
        "  nb_valeurs_distinctes = max(2, int(nb_valeurs_distinctes / 2))\n",
        "  a.append(np.random.randint(0, nb_valeurs_distinctes, nb_lines))\n",
        "\n",
        "b = [ ','.join(map(lambda x: str(x), e)) + f\",{long_string}\\n\" for e in zip(*a)]\n",
        "\n",
        "with open(DATA, \"w\") as f:\n",
        "  f.write(''.join(b))"
      ],
      "metadata": {
        "id": "TIvmnhsTryK4"
      },
      "execution_count": null,
      "outputs": []
    },
    {
      "cell_type": "code",
      "source": [
        "%%bash\n",
        "echo \"head : \"\n",
        "head -n 2 data.csv\n",
        "echo \"tail : \"\n",
        "tail -n 2 data.csv\n",
        "echo \"size (lines) :\"\n",
        "wc -l data.csv"
      ],
      "metadata": {
        "id": "1aMC3Y6yryK-",
        "colab": {
          "base_uri": "https://localhost:8080/"
        },
        "outputId": "9189103a-cc3e-4622-8713-44c61c8afce5"
      },
      "execution_count": null,
      "outputs": [
        {
          "output_type": "stream",
          "name": "stdout",
          "text": [
            "head : \n",
            "3374854,999478,661438,333402,17341,57062,35751,----------------------------------------------------------------------------------------------------\n",
            "1871912,2333597,474092,48205,137169,153149,25428,----------------------------------------------------------------------------------------------------\n",
            "tail : \n",
            "3830079,99941,846378,68098,260228,38712,9305,----------------------------------------------------------------------------------------------------\n",
            "3176394,767655,265970,301335,252048,98988,19697,----------------------------------------------------------------------------------------------------\n",
            "size (lines) :\n",
            "5000000 data.csv\n"
          ]
        }
      ]
    },
    {
      "cell_type": "markdown",
      "source": [
        "# Lecture séquentielle"
      ],
      "metadata": {
        "id": "5gm8_3CY_odp"
      }
    },
    {
      "cell_type": "code",
      "source": [
        "def filtrer_fichier(fichier, valeur_recherchee):\n",
        "  with open(fichier, \"r\") as f:\n",
        "    for i, line in enumerate(f):\n",
        "      a = int(line.split(',')[0]) #cle unique\n",
        "      if a == s :\n",
        "        print(f\"ligne {i} :\", line.strip())\n",
        "\n",
        "\n",
        "s = np.random.randint(nb_valeurs_distinctes)\n",
        "print(\"valeur recherchée :\", s)\n",
        "\n",
        "t1 = time.time()\n",
        "filtrer_fichier(DATA, s)\n",
        "print(\"done in\", time.time() - t1, \"s\")"
      ],
      "metadata": {
        "id": "nSX2XxLx_tBa",
        "colab": {
          "base_uri": "https://localhost:8080/"
        },
        "outputId": "afde5300-8ebe-4028-a23a-888f5ac347f8"
      },
      "execution_count": null,
      "outputs": [
        {
          "output_type": "stream",
          "name": "stdout",
          "text": [
            "valeur recherchée : 24953\n",
            "ligne 997689 : 24953,1369506,937797,296988,84051,92800,38868,----------------------------------------------------------------------------------------------------\n",
            "done in 4.316120624542236 s\n"
          ]
        }
      ]
    },
    {
      "cell_type": "markdown",
      "source": [
        "# Découper le fichier en pages"
      ],
      "metadata": {
        "id": "qlmFE3aZTBWC"
      }
    },
    {
      "cell_type": "code",
      "source": [
        "def page_dir_name(fichier):\n",
        "  return fichier.split('.')[0] + \"_pages\"\n",
        "\n",
        "def decoupe_fichier_en_pages(fichier, nb_tuple_par_page):\n",
        "  page_dir = page_dir_name(fichier)\n",
        "  print(\"pages dans :\", page_dir)\n",
        "  if(os.path.exists(page_dir)):\n",
        "    sh.rmtree(page_dir)\n",
        "  os.makedirs(page_dir, exist_ok=True)\n",
        "\n",
        "  with open(fichier, \"r\") as f:\n",
        "    p=0\n",
        "    lines = []\n",
        "    for i, line in enumerate(f):\n",
        "      lines.append(line)\n",
        "      if (i+1) % nb_tuple_par_page == 0:\n",
        "        p += 1\n",
        "        with open(page_dir + f\"/page{p}\", \"w\") as fp:\n",
        "          fp.write(''.join(lines))\n",
        "        lines = []\n",
        "    if len(lines) > 0:\n",
        "      p +=1\n",
        "      with open(page_dir + f\"/page{p}\", \"w\") as fp:\n",
        "          fp.write(''.join(lines))\n",
        "    \n",
        "    print(\"nb pages créées :\", p)\n",
        "\n",
        "decoupe_fichier_en_pages(DATA, nb_tuple_par_page=1000)"
      ],
      "metadata": {
        "id": "kOEddKG8PHDF",
        "colab": {
          "base_uri": "https://localhost:8080/"
        },
        "outputId": "9fa8e41c-8b09-4b17-f510-0e66a9e04fd4"
      },
      "execution_count": null,
      "outputs": [
        {
          "output_type": "stream",
          "name": "stdout",
          "text": [
            "pages dans : data_pages\n",
            "nb pages créées : 5000\n"
          ]
        }
      ]
    },
    {
      "cell_type": "markdown",
      "source": [
        "Afficher le nombre de tuples dans une page (pour quelques pages)"
      ],
      "metadata": {
        "id": "hqaml72_bXkj"
      }
    },
    {
      "cell_type": "code",
      "source": [
        "%%bash\n",
        "wc -l data_pages/* | head -n 3"
      ],
      "metadata": {
        "id": "qEX48QWEClJD",
        "colab": {
          "base_uri": "https://localhost:8080/"
        },
        "outputId": "3f0076ba-036e-411a-aeaf-69a98550dfe1"
      },
      "execution_count": null,
      "outputs": [
        {
          "output_type": "stream",
          "name": "stdout",
          "text": [
            "     1000 data_pages/page1\n",
            "     1000 data_pages/page10\n",
            "     1000 data_pages/page100\n"
          ]
        }
      ]
    },
    {
      "cell_type": "markdown",
      "source": [
        "# Lecture séquentielle du fichier découpé en pages"
      ],
      "metadata": {
        "id": "Y4XDZAmbcUQb"
      }
    },
    {
      "cell_type": "code",
      "source": [
        "def lecture_sequentielle_par_page(fichier):\n",
        "   page_dir = page_dir_name(fichier)\n",
        "   nb_pages = len(os.listdir(page_dir))\n",
        "   \n",
        "   # a faire : pour chaque page, lire ses lignes\n",
        "   # une ligne devient un tuple\n",
        "   # retourner un itérateur contenant le numéro de page, la position dans la page et le tuple\n",
        "   for p in range(nb_pages) :\n",
        "     with open(page_dir + f\"/page{(p+1)}\", \"r\") as fp:\n",
        "       for i, line in enumerate(fp):\n",
        "         t = line.split(',')\n",
        "         yield p+1,i+1,t\n",
        "   \n",
        "\n",
        "\n",
        "def filtrer_fichier_par_pages(fichier, valeur_recherchee):\n",
        "  # à faire pour chaque (numéro de page, position dans la page, tuple) obtenu en invoquant la méthode ci-dessus\n",
        "  # convertir le 1er attribut en un nombre l'afficher si il est egal à la valeur recherchee  \n",
        "  y = lecture_sequentielle_par_page(fichier)\n",
        "  for line in y:\n",
        "    a = int(line[2][0])\n",
        "    if a == valeur_recherchee : \n",
        "      print(line)\n",
        "\n",
        "\n",
        "\n",
        "s = np.random.randint(nb_valeurs_distinctes)\n",
        "print(\"valeur recherchée :\", s)\n",
        "\n",
        "t1 = time.time()\n",
        "filtrer_fichier_par_pages(\"data.txt\", s)\n",
        "print(\"done in\", round(time.time() - t1, 2), \"s\")"
      ],
      "metadata": {
        "id": "fPVOrVpKccUG",
        "colab": {
          "base_uri": "https://localhost:8080/"
        },
        "outputId": "aeed3d09-dd1e-4a45-a0c6-9640bf4ffa39"
      },
      "execution_count": null,
      "outputs": [
        {
          "output_type": "stream",
          "name": "stdout",
          "text": [
            "valeur recherchée : 63206\n",
            "(2981, 843, ['63206', '2484220', '717793', '242299', '301552', '114687', '69313', '----------------------------------------------------------------------------------------------------\\n'])\n",
            "done in 5.44 s\n"
          ]
        }
      ]
    },
    {
      "cell_type": "markdown",
      "source": [
        "# Lecture d'un tuple dans une page"
      ],
      "metadata": {
        "id": "UcmdLaQ5ruBJ"
      }
    },
    {
      "cell_type": "code",
      "source": [
        "def lecture_tuple(fichier, num_page, position):\n",
        "  page_dir = page_dir_name(fichier)\n",
        "  with open(page_dir + f\"/page{num_page}\", \"r\") as fp:\n",
        "    for i, line in enumerate(fp):\n",
        "      if(i==position-1):\n",
        "        print(line)  \n",
        "        return line\n",
        "\n",
        "\n",
        "t1 = time.time()\n",
        "lecture_tuple(\"data.txt\", 188,6)\n",
        "print(\"done in\", round(time.time() - t1, 2), \"s\")"
      ],
      "metadata": {
        "id": "F4tYi4xCrxFG",
        "colab": {
          "base_uri": "https://localhost:8080/"
        },
        "outputId": "388d1db1-e54a-40e5-9ce3-d0e6d0d3086c"
      },
      "execution_count": null,
      "outputs": [
        {
          "output_type": "stream",
          "name": "stdout",
          "text": [
            "1008799,600545,375795,347887,145831,45618,64966,----------------------------------------------------------------------------------------------------\n",
            "\n",
            "done in 0.0 s\n"
          ]
        }
      ]
    },
    {
      "cell_type": "markdown",
      "source": [
        "# Créer un index"
      ],
      "metadata": {
        "id": "5mD_xZjLxXLD"
      }
    },
    {
      "cell_type": "code",
      "source": [
        "def creation_index_unique(fichier):\n",
        "  index = {}\n",
        "\n",
        "  # la clé est la valeur du 1er attribut\n",
        "  # la valeur est un rowid composé de (page, position)\n",
        "  y = lecture_sequentielle_par_page(fichier)\n",
        "\n",
        "  for line in y : \n",
        "    index[int(line[2][0])] = (line[0], line[1])\n",
        "  return index\n",
        "\n",
        "t1 = time.time()\n",
        "index1 = creation_index_unique(\"data.txt\")\n",
        "print(\"done in\", round(time.time() - t1, 2), \"s\")"
      ],
      "metadata": {
        "id": "Fhy4IJ0bxWHD",
        "colab": {
          "base_uri": "https://localhost:8080/"
        },
        "outputId": "8a2264eb-424d-4d60-f9aa-e065d4211509"
      },
      "execution_count": null,
      "outputs": [
        {
          "output_type": "stream",
          "name": "stdout",
          "text": [
            "done in 8.99 s\n"
          ]
        }
      ]
    },
    {
      "cell_type": "code",
      "source": [
        "def creation_index_not_unique(fichier):\n",
        "  index = {}\n",
        "\n",
        "  # la clé est la valeur du 1er attribut\n",
        "  # la valeur est un rowid composé de (page, position)\n",
        "  y = lecture_sequentielle_par_page(fichier)\n",
        "\n",
        "  for line in y :\n",
        "    if(int(line[2][1]) in index):\n",
        "      index[int(line[2][1])] = index[int(line[2][1])]+[(line[0], line[1])]\n",
        "    else : \n",
        "      index[int(line[2][1])] = [(line[0], line[1])]\n",
        "  return index\n",
        "\n",
        "t1 = time.time()\n",
        "index2 = creation_index_not_unique(\"data.txt\")\n",
        "print(\"done in\", round(time.time() - t1, 2), \"s\")"
      ],
      "metadata": {
        "colab": {
          "base_uri": "https://localhost:8080/"
        },
        "id": "SjttUytmfC69",
        "outputId": "2b389b5f-8cb5-4c14-b0e6-b1d141402c5f"
      },
      "execution_count": null,
      "outputs": [
        {
          "output_type": "stream",
          "name": "stdout",
          "text": [
            "done in 64.09 s\n"
          ]
        }
      ]
    },
    {
      "cell_type": "code",
      "source": [
        "print(index1[3241396])"
      ],
      "metadata": {
        "colab": {
          "base_uri": "https://localhost:8080/"
        },
        "id": "povbCNs8gKl_",
        "outputId": "afa2e726-698f-4624-c799-b91e542a8f81"
      },
      "execution_count": null,
      "outputs": [
        {
          "output_type": "stream",
          "name": "stdout",
          "text": [
            "(188, 11)\n"
          ]
        }
      ]
    },
    {
      "cell_type": "code",
      "source": [
        "print(index2[2466832])"
      ],
      "metadata": {
        "colab": {
          "base_uri": "https://localhost:8080/"
        },
        "id": "ESE9eLpWgZHu",
        "outputId": "99750e24-66fc-41b6-e014-2a1b5b4d50e9"
      },
      "execution_count": null,
      "outputs": [
        {
          "output_type": "stream",
          "name": "stdout",
          "text": [
            "[(188, 11), (874, 45), (3108, 422), (3765, 596), (4008, 23)]\n"
          ]
        }
      ]
    },
    {
      "cell_type": "markdown",
      "source": [
        "# Accès par index"
      ],
      "metadata": {
        "id": "-qA7hCef5Kfa"
      }
    },
    {
      "cell_type": "markdown",
      "source": [
        "## Index unique scan\n",
        "Accès pour rechercher les tuples dont le 1er attribut a une valeur donnée.\n",
        "\n",
        "On peut supposer pour simplifier que l'attribut est unique"
      ],
      "metadata": {
        "id": "J0zrHPfGJjzm"
      }
    },
    {
      "cell_type": "code",
      "source": [
        "def selection_par_index(fichier, index, valeur_recherchee):\n",
        "  num_page, position = index[valeur_recherchee]\n",
        "  return lecture_tuple(fichier, num_page, position)\n",
        "\n",
        "s = np.random.randint(nb_valeurs_distinctes)\n",
        "print(\"valeur recherchée :\", s)\n",
        "\n",
        "t1 = time.time()\n",
        "selection_par_index(\"data.txt\", index1, s)\n",
        "print(\"done in\", round(time.time() - t1, 2), \"s\")"
      ],
      "metadata": {
        "id": "PH3f5bz-5JTu",
        "colab": {
          "base_uri": "https://localhost:8080/"
        },
        "outputId": "22358979-b38e-49f9-c6ac-89ac20c3efa5"
      },
      "execution_count": null,
      "outputs": [
        {
          "output_type": "stream",
          "name": "stdout",
          "text": [
            "valeur recherchée : 70852\n",
            "70852,2173908,38506,155950,113870,114453,27492,----------------------------------------------------------------------------------------------------\n",
            "\n",
            "done in 0.0 s\n"
          ]
        }
      ]
    },
    {
      "cell_type": "markdown",
      "source": [
        "## Index range scan\n",
        "Accès pour rechercher les tuples dont le 1er attribut a une valeur comprise dans une intervalle donné"
      ],
      "metadata": {
        "id": "afvN2LWhJs0V"
      }
    },
    {
      "cell_type": "code",
      "source": [
        "def selection_par_index_plage(fichier, index, borne_inf, borne_sup):  \n",
        "  for i in range(borne_inf, borne_sup+1):\n",
        "    num_page, position = index[i]\n",
        "    lecture_tuple(fichier, num_page, position)\n",
        "\n"
      ],
      "metadata": {
        "id": "EGEO1PheSEdT"
      },
      "execution_count": null,
      "outputs": []
    },
    {
      "cell_type": "code",
      "source": [
        "t1 = time.time()\n",
        "selection_par_index_plage(\"data.txt\", index1, 17000, 17030)\n",
        "print(\"done in\", round(time.time() - t1, 2), \"s\")"
      ],
      "metadata": {
        "id": "UEKExgGfKRUs",
        "colab": {
          "base_uri": "https://localhost:8080/"
        },
        "outputId": "d3866444-7227-436c-8a4c-50817db761ed"
      },
      "execution_count": null,
      "outputs": [
        {
          "output_type": "stream",
          "name": "stdout",
          "text": [
            "17000,414817,1007979,305580,109061,13095,69233,----------------------------------------------------------------------------------------------------\n",
            "\n",
            "17001,844669,1086043,290417,102384,74751,58097,----------------------------------------------------------------------------------------------------\n",
            "\n",
            "17002,525922,739164,367591,6378,20563,58015,----------------------------------------------------------------------------------------------------\n",
            "\n",
            "17003,518539,455181,450628,99435,132520,67633,----------------------------------------------------------------------------------------------------\n",
            "\n",
            "17004,167710,622351,185656,102002,45013,73976,----------------------------------------------------------------------------------------------------\n",
            "\n",
            "17005,1028090,882981,220190,81118,8561,68553,----------------------------------------------------------------------------------------------------\n",
            "\n",
            "17006,1885654,1067928,122834,214087,145411,70459,----------------------------------------------------------------------------------------------------\n",
            "\n",
            "17007,1083354,901716,264909,10421,97315,72860,----------------------------------------------------------------------------------------------------\n",
            "\n",
            "17008,1527106,47857,477778,131166,136451,75848,----------------------------------------------------------------------------------------------------\n",
            "\n",
            "17009,1086785,90189,532675,122984,78963,52087,----------------------------------------------------------------------------------------------------\n",
            "\n",
            "17010,1701745,708129,282965,162645,143403,35284,----------------------------------------------------------------------------------------------------\n",
            "\n",
            "17011,983874,933246,113149,228489,149907,39148,----------------------------------------------------------------------------------------------------\n",
            "\n",
            "17012,1156692,734697,54708,241113,85627,11345,----------------------------------------------------------------------------------------------------\n",
            "\n",
            "17013,1881403,683441,84165,259020,119561,73937,----------------------------------------------------------------------------------------------------\n",
            "\n",
            "17014,456279,255037,35647,24499,102237,14377,----------------------------------------------------------------------------------------------------\n",
            "\n",
            "17015,516231,169730,523517,179719,115059,45500,----------------------------------------------------------------------------------------------------\n",
            "\n",
            "17016,1198672,125751,131331,129608,145599,8005,----------------------------------------------------------------------------------------------------\n",
            "\n",
            "17017,746656,1134245,5414,277849,59724,52590,----------------------------------------------------------------------------------------------------\n",
            "\n",
            "17018,339019,720574,498422,18011,9259,42448,----------------------------------------------------------------------------------------------------\n",
            "\n",
            "17019,312335,621437,298614,218815,56768,76951,----------------------------------------------------------------------------------------------------\n",
            "\n",
            "17020,2403470,1003936,213360,253657,69168,32575,----------------------------------------------------------------------------------------------------\n",
            "\n",
            "17021,2306433,1062658,414621,277343,38092,31629,----------------------------------------------------------------------------------------------------\n",
            "\n",
            "17022,471382,1026934,326540,248142,120149,17121,----------------------------------------------------------------------------------------------------\n",
            "\n",
            "17023,1421926,973682,435499,111512,67965,26568,----------------------------------------------------------------------------------------------------\n",
            "\n",
            "17024,1183459,979765,502810,80227,76491,56588,----------------------------------------------------------------------------------------------------\n",
            "\n",
            "17025,467708,939322,276044,33929,145545,52985,----------------------------------------------------------------------------------------------------\n",
            "\n",
            "17026,1520667,41765,511018,47579,55652,74274,----------------------------------------------------------------------------------------------------\n",
            "\n",
            "17027,1652947,353481,595925,286156,66079,75111,----------------------------------------------------------------------------------------------------\n",
            "\n",
            "17028,401007,498340,276342,305174,153306,45396,----------------------------------------------------------------------------------------------------\n",
            "\n",
            "17029,831635,818524,491883,265456,27529,61988,----------------------------------------------------------------------------------------------------\n",
            "\n",
            "17030,1179833,1246112,89543,211364,131051,61832,----------------------------------------------------------------------------------------------------\n",
            "\n",
            "done in 0.04 s\n"
          ]
        }
      ]
    },
    {
      "cell_type": "markdown",
      "source": [
        "#Mise à jour de données\n",
        "\n",
        "\n"
      ],
      "metadata": {
        "id": "7Rjm99DrKR8t"
      }
    },
    {
      "cell_type": "markdown",
      "source": [
        "## Sélectionner un tuple et modifier un de ses attributs\n",
        "\n"
      ],
      "metadata": {
        "id": "7np5NI8OKK6z"
      }
    },
    {
      "cell_type": "code",
      "source": [
        "def addN(a0, N):\n",
        "  page_dir = page_dir_name(DATA)\n",
        "  num_page, position = index1[a0]\n",
        "\n",
        "  lines=[]\n",
        "  with open(page_dir + f\"/page{num_page}\", \"r\") as fpr:\n",
        "    for i, line in enumerate(fpr):\n",
        "      if(i==position-1):\n",
        "        t = line.split(',')\n",
        "        t[1]=str(int(t[1])+N)\n",
        "        t=','.join(t)\n",
        "        lines.append(t)\n",
        "      else : \n",
        "        lines.append(line)\n",
        "\n",
        "  with open(page_dir + f\"/page{num_page}\", \"w\") as fpw:\n",
        "            fpw.write(''.join(lines))\n"
      ],
      "metadata": {
        "id": "RCRwCGlwKlEK"
      },
      "execution_count": null,
      "outputs": []
    },
    {
      "cell_type": "code",
      "source": [
        "addN(844431,1)"
      ],
      "metadata": {
        "id": "u16BtidM13Gp"
      },
      "execution_count": null,
      "outputs": []
    },
    {
      "cell_type": "markdown",
      "source": [
        "##Modifier l'index en conséquence lorsque l'attibut modifié est indexé\n"
      ],
      "metadata": {
        "id": "8zAZws5_KaL8"
      }
    },
    {
      "cell_type": "code",
      "source": [
        "def updateIndex2(fichier, a0, N):\n",
        "  num_page, position = index1[a0]\n",
        "  print(\"tuple : \")\n",
        "  t = selection_par_index(fichier, index1, a0)\n",
        "  t = t.split(',')\n",
        "  new_a1 = int(t[1])\n",
        "  old_a1 = new_a1 - N\n",
        "  #suppression \n",
        "  values = index2.pop(old_a1)\n",
        "  values.pop(values.index((num_page,position)))\n",
        "  index2[old_a1] = values\n",
        "  #ajout\n",
        "  if(new_a1 in index2):\n",
        "    index2[new_a1] = index2[new_a1]+[(num_page, position)]\n",
        "  else : \n",
        "    index2[new_a1] = [(num_page, position)]\n",
        "\n"
      ],
      "metadata": {
        "id": "3_dcGN_dKaya"
      },
      "execution_count": null,
      "outputs": []
    },
    {
      "cell_type": "code",
      "source": [
        "print(\"Avant : \")\n",
        "t = selection_par_index(DATA, index1, 844431)\n",
        "t = t.split(',')\n",
        "old_a1 = int(t[1])\n",
        "print(index2[old_a1])\n",
        "\n",
        "updateIndex2(DATA, 844431, 1)\n",
        "new_a1 = old_a1 + 1\n",
        "\n",
        "print(\"Après : \")\n",
        "print(index2[old_a1])\n",
        "print(index2[new_a1])\n"
      ],
      "metadata": {
        "colab": {
          "base_uri": "https://localhost:8080/"
        },
        "id": "UWsfzqvl4dlT",
        "outputId": "697e4a99-2aad-41bc-dd5e-7ed7f817c4bf"
      },
      "execution_count": null,
      "outputs": [
        {
          "output_type": "stream",
          "name": "stdout",
          "text": [
            "Avant : \n",
            "844431,1528790,229042,24023,48545,123626,64316,----------------------------------------------------------------------------------------------------\n",
            "\n",
            "[(4898, 770)]\n",
            "tuple : \n",
            "844431,1528790,229042,24023,48545,123626,64316,----------------------------------------------------------------------------------------------------\n",
            "\n",
            "Après : \n",
            "[(4898, 770), (188, 14)]\n",
            "[(781, 708), (1209, 420), (4482, 794)]\n"
          ]
        }
      ]
    },
    {
      "cell_type": "markdown",
      "source": [
        "# Persistence\n",
        "\n"
      ],
      "metadata": {
        "id": "as_W7xmOKc3l"
      }
    },
    {
      "cell_type": "markdown",
      "source": [
        "## Stocker un index (dans plusieurs pages) pour le reconstruire plus rapidement\n"
      ],
      "metadata": {
        "id": "Uy8NE3x5KgLj"
      }
    },
    {
      "cell_type": "code",
      "source": [],
      "metadata": {
        "id": "VqSClCOgKl6a"
      },
      "execution_count": null,
      "outputs": []
    },
    {
      "cell_type": "markdown",
      "source": [
        "## Adapter en conséquence les opérations de modification de l'index"
      ],
      "metadata": {
        "id": "SzDPXcGzKjKU"
      }
    },
    {
      "cell_type": "code",
      "source": [],
      "metadata": {
        "id": "y9mXqJeFKmUE"
      },
      "execution_count": null,
      "outputs": []
    }
  ]
}